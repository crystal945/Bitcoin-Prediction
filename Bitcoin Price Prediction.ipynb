{
 "cells": [
  {
   "cell_type": "code",
   "execution_count": 1,
   "metadata": {
    "collapsed": true
   },
   "outputs": [],
   "source": [
    "import pycurl\n",
    "import StringIO\n",
    "import time\n",
    "import csv\n",
    "\n",
    "def oneday(start,symbol):\n",
    "    st = time.strptime(start, '%Y-%m-%d %H:%M:%S')\n",
    "    pytime1 = time.mktime(st)*1000\n",
    "    pytime2 = pytime1+60*60*12*1000\n",
    "    list1 = getprice(pytime1,symbol)\n",
    "    list2 = getprice(pytime2,symbol)\n",
    "    listall = list1+list2\n",
    "    \n",
    "    for l in listall:\n",
    "        st = time.localtime(l[0]/1000)\n",
    "        l[0] = time.strftime('%Y-%m-%d %H:%M:%S', st)       \n",
    "\n",
    "    csvfile = open(symbol+start[:10]+'.csv', 'wb')\n",
    "    writer = csv.writer(csvfile)\n",
    "    writer.writerow(['MTS', 'OPEN', 'CLOSE', 'HIGH', 'LOW', 'VOLUME'])\n",
    "    writer.writerows(listall)\n",
    "    csvfile.close()\n",
    "\n",
    "def getprice(pytime,symbol):\n",
    "    url='https://api.bitfinex.com/v2/candles/trade:1m:'+symbol+'/hist?limit=720&start='+str(int(pytime))+'&sort=1'\n",
    "    c=pycurl.Curl()\n",
    "    c.setopt(c.URL, url)\n",
    "    b = StringIO.StringIO()\n",
    "    c.setopt(c.WRITEFUNCTION, b.write)\n",
    "    c.perform()\n",
    "    price=eval(b.getvalue())\n",
    "    return price"
   ]
  },
  {
   "cell_type": "code",
   "execution_count": 2,
   "metadata": {
    "collapsed": true
   },
   "outputs": [],
   "source": [
    "oneday('2017-12-14 00:00:00','tBTCUSD')"
   ]
  },
  {
   "cell_type": "code",
   "execution_count": 3,
   "metadata": {},
   "outputs": [
    {
     "name": "stdout",
     "output_type": "stream",
     "text": [
      "AR.ipynb\n",
      "Bitcoin Price Prediction.ipynb\n",
      "tBTCUSD2017-12-14.csv\n",
      "\n"
     ]
    }
   ],
   "source": [
    "# Input data files are available in the \"../input/\" directory.\n",
    "import pandas as pd\n",
    "from subprocess import check_output\n",
    "import time\n",
    "\n",
    "print check_output([\"ls\", \".\"]).decode(\"utf8\")"
   ]
  },
  {
   "cell_type": "code",
   "execution_count": 5,
   "metadata": {
    "collapsed": true
   },
   "outputs": [],
   "source": [
    "oneday = pd.read_csv(\"tBTCUSD2017-12-14.csv\")\n",
    "cols = [\"OPEN\", \"CLOSE\", \"HIGH\", \"LOW\"]\n",
    "oneday[cols] = (oneday[cols] - oneday[cols].mean()) / (oneday[cols].max() - oneday[cols].min())"
   ]
  },
  {
   "cell_type": "code",
   "execution_count": 6,
   "metadata": {},
   "outputs": [
    {
     "data": {
      "text/html": [
       "<div>\n",
       "<style>\n",
       "    .dataframe thead tr:only-child th {\n",
       "        text-align: right;\n",
       "    }\n",
       "\n",
       "    .dataframe thead th {\n",
       "        text-align: left;\n",
       "    }\n",
       "\n",
       "    .dataframe tbody tr th {\n",
       "        vertical-align: top;\n",
       "    }\n",
       "</style>\n",
       "<table border=\"1\" class=\"dataframe\">\n",
       "  <thead>\n",
       "    <tr style=\"text-align: right;\">\n",
       "      <th></th>\n",
       "      <th>MTS</th>\n",
       "      <th>OPEN</th>\n",
       "      <th>CLOSE</th>\n",
       "      <th>HIGH</th>\n",
       "      <th>LOW</th>\n",
       "      <th>VOLUME</th>\n",
       "    </tr>\n",
       "  </thead>\n",
       "  <tbody>\n",
       "    <tr>\n",
       "      <th>0</th>\n",
       "      <td>2017-12-14 00:00:00</td>\n",
       "      <td>-0.008649</td>\n",
       "      <td>-0.006994</td>\n",
       "      <td>-0.000659</td>\n",
       "      <td>-0.019696</td>\n",
       "      <td>98.959339</td>\n",
       "    </tr>\n",
       "    <tr>\n",
       "      <th>1</th>\n",
       "      <td>2017-12-14 00:01:00</td>\n",
       "      <td>-0.007474</td>\n",
       "      <td>0.007669</td>\n",
       "      <td>0.011494</td>\n",
       "      <td>0.002184</td>\n",
       "      <td>81.457980</td>\n",
       "    </tr>\n",
       "    <tr>\n",
       "      <th>2</th>\n",
       "      <td>2017-12-14 00:02:00</td>\n",
       "      <td>0.007802</td>\n",
       "      <td>0.014707</td>\n",
       "      <td>0.051424</td>\n",
       "      <td>0.017560</td>\n",
       "      <td>124.565816</td>\n",
       "    </tr>\n",
       "    <tr>\n",
       "      <th>3</th>\n",
       "      <td>2017-12-14 00:03:00</td>\n",
       "      <td>0.015440</td>\n",
       "      <td>0.062801</td>\n",
       "      <td>0.051424</td>\n",
       "      <td>0.023473</td>\n",
       "      <td>35.940528</td>\n",
       "    </tr>\n",
       "    <tr>\n",
       "      <th>4</th>\n",
       "      <td>2017-12-14 00:04:00</td>\n",
       "      <td>0.061268</td>\n",
       "      <td>0.061628</td>\n",
       "      <td>0.057211</td>\n",
       "      <td>0.071374</td>\n",
       "      <td>71.088120</td>\n",
       "    </tr>\n",
       "  </tbody>\n",
       "</table>\n",
       "</div>"
      ],
      "text/plain": [
       "                   MTS      OPEN     CLOSE      HIGH       LOW      VOLUME\n",
       "0  2017-12-14 00:00:00 -0.008649 -0.006994 -0.000659 -0.019696   98.959339\n",
       "1  2017-12-14 00:01:00 -0.007474  0.007669  0.011494  0.002184   81.457980\n",
       "2  2017-12-14 00:02:00  0.007802  0.014707  0.051424  0.017560  124.565816\n",
       "3  2017-12-14 00:03:00  0.015440  0.062801  0.051424  0.023473   35.940528\n",
       "4  2017-12-14 00:04:00  0.061268  0.061628  0.057211  0.071374   71.088120"
      ]
     },
     "execution_count": 6,
     "metadata": {},
     "output_type": "execute_result"
    }
   ],
   "source": [
    "oneday.head()"
   ]
  },
  {
   "cell_type": "code",
   "execution_count": null,
   "metadata": {
    "collapsed": true
   },
   "outputs": [],
   "source": []
  }
 ],
 "metadata": {
  "kernelspec": {
   "display_name": "Python 2",
   "language": "python",
   "name": "python2"
  },
  "language_info": {
   "codemirror_mode": {
    "name": "ipython",
    "version": 2
   },
   "file_extension": ".py",
   "mimetype": "text/x-python",
   "name": "python",
   "nbconvert_exporter": "python",
   "pygments_lexer": "ipython2",
   "version": "2.7.13"
  }
 },
 "nbformat": 4,
 "nbformat_minor": 2
}
